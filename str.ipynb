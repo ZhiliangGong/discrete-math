{
 "cells": [
  {
   "cell_type": "code",
   "execution_count": 1,
   "metadata": {},
   "outputs": [],
   "source": [
    "def readNum(s, i):\n",
    "    j = i + 1\n",
    "    while j < len(s) and s[j] >= '0' and s[j] <= '9':\n",
    "        j += 1\n",
    "    r = 1\n",
    "    if j > i + 1:\n",
    "        r = int(s[i+1:j])\n",
    "    return (r, j)"
   ]
  },
  {
   "cell_type": "code",
   "execution_count": 2,
   "metadata": {},
   "outputs": [
    {
     "data": {
      "text/plain": [
       "(1289, 5)"
      ]
     },
     "execution_count": 2,
     "metadata": {},
     "output_type": "execute_result"
    }
   ],
   "source": [
    "readNum('a1289b', 0)"
   ]
  },
  {
   "cell_type": "code",
   "execution_count": 3,
   "metadata": {},
   "outputs": [],
   "source": [
    "def decodePlain(s):\n",
    "    i = 0\n",
    "    ans = ''\n",
    "    while i < len(s):\n",
    "        (r, j) = readNum(s, i)\n",
    "        ans += s[i] * r\n",
    "        i = j\n",
    "    return ans"
   ]
  },
  {
   "cell_type": "code",
   "execution_count": 4,
   "metadata": {},
   "outputs": [
    {
     "data": {
      "text/plain": [
       "'abbcdffffff'"
      ]
     },
     "execution_count": 4,
     "metadata": {},
     "output_type": "execute_result"
    }
   ],
   "source": [
    "decodePlain('ab2cdf6')"
   ]
  },
  {
   "cell_type": "code",
   "execution_count": 20,
   "metadata": {},
   "outputs": [],
   "source": [
    "def decodeBrackets(s):\n",
    "    o = -1\n",
    "    i = 0\n",
    "    ans = ''\n",
    "    while i < len(s):\n",
    "        c = s[i]\n",
    "        if c == '[':\n",
    "            ans += decodePlain(s[o+1:i])\n",
    "            o = i\n",
    "            i += 1\n",
    "        elif c == ']':\n",
    "            seg = decodePlain(s[o+1:i])\n",
    "            (r, j) = readNum(s, i)\n",
    "            ans += seg * r\n",
    "            i = j\n",
    "            o = i - 1\n",
    "        else:\n",
    "            i += 1\n",
    "    ans += decodePlain(s[o+1:i])\n",
    "    return ans"
   ]
  },
  {
   "cell_type": "code",
   "execution_count": 31,
   "metadata": {},
   "outputs": [
    {
     "data": {
      "text/plain": [
       "'aababcddde'"
      ]
     },
     "execution_count": 31,
     "metadata": {},
     "output_type": "execute_result"
    }
   ],
   "source": [
    "decodeBrackets('a[ab]2cd3e')"
   ]
  },
  {
   "cell_type": "code",
   "execution_count": 34,
   "metadata": {},
   "outputs": [
    {
     "data": {
      "text/plain": [
       "'eababcccccccccccccc'"
      ]
     },
     "execution_count": 34,
     "metadata": {},
     "output_type": "execute_result"
    }
   ],
   "source": [
    "decodeBrackets('e[ab]2[c]14')"
   ]
  },
  {
   "cell_type": "code",
   "execution_count": 72,
   "metadata": {},
   "outputs": [],
   "source": [
    "def decode(s):\n",
    "    stack = []\n",
    "    i = 0\n",
    "    gs = []\n",
    "    o = -1\n",
    "    rec = False\n",
    "    while i < len(s):\n",
    "        c = s[i]\n",
    "        if c == '[':\n",
    "            if len(stack) == 0:\n",
    "                gs.append((o, i, 1, False))\n",
    "                rec = False\n",
    "                o = i\n",
    "            else:\n",
    "                rec = True\n",
    "            stack.append(i)\n",
    "            i += 1\n",
    "        elif c == ']':\n",
    "            stack.pop()\n",
    "            if len(stack) == 0:\n",
    "                (r, j) = readNum(s, i)\n",
    "                gs.append((o, i, r, rec))\n",
    "                i = j\n",
    "                o = i - 1\n",
    "            else:\n",
    "                i += 1\n",
    "        else:\n",
    "            i += 1\n",
    "    if o < len(s) - 1:\n",
    "        gs.append((o, len(s) + 1, 1, False))\n",
    "    ans = ''\n",
    "    for (o, e, r, rec) in gs:\n",
    "        if o + 1 >= e:\n",
    "            continue\n",
    "        if not rec:\n",
    "            ans += decodePlain(s[o+1:e]) * r\n",
    "        else:\n",
    "            ans += decode(s[o+1:e]) * r\n",
    "    return ans"
   ]
  },
  {
   "cell_type": "code",
   "execution_count": 75,
   "metadata": {},
   "outputs": [
    {
     "data": {
      "text/plain": [
       "'abbabbabbabbdddddd'"
      ]
     },
     "execution_count": 75,
     "metadata": {},
     "output_type": "execute_result"
    }
   ],
   "source": [
    "decode('[a[b]2]4d6')"
   ]
  },
  {
   "cell_type": "code",
   "execution_count": null,
   "metadata": {},
   "outputs": [],
   "source": []
  }
 ],
 "metadata": {
  "kernelspec": {
   "display_name": "Python 3",
   "language": "python",
   "name": "python3"
  },
  "language_info": {
   "codemirror_mode": {
    "name": "ipython",
    "version": 3
   },
   "file_extension": ".py",
   "mimetype": "text/x-python",
   "name": "python",
   "nbconvert_exporter": "python",
   "pygments_lexer": "ipython3",
   "version": "3.8.0"
  }
 },
 "nbformat": 4,
 "nbformat_minor": 4
}
