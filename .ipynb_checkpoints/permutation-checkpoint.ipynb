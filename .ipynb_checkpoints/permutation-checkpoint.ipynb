{
 "cells": [
  {
   "cell_type": "code",
   "execution_count": 1,
   "metadata": {},
   "outputs": [],
   "source": [
    "def perm(arr):\n",
    "    if len(arr) == 1:\n",
    "        return arr\n",
    "    ans = []\n",
    "    for i in range(len(arr)):\n",
    "        if i > 0 and arr[i] == arr[i-1]:\n",
    "            continue\n",
    "        sliced = arr[:i] + arr[i+1:]\n",
    "        res = perm(sliced)\n",
    "        for r in res:\n",
    "            ans.append(arr[i] + r)\n",
    "    return ans"
   ]
  },
  {
   "cell_type": "code",
   "execution_count": 2,
   "metadata": {},
   "outputs": [],
   "source": [
    "arr = ['a', 'a', 'b', 'c']\n",
    "arr = sorted(arr)"
   ]
  },
  {
   "cell_type": "code",
   "execution_count": 3,
   "metadata": {},
   "outputs": [
    {
     "data": {
      "text/plain": [
       "['aabc',\n",
       " 'aacb',\n",
       " 'abac',\n",
       " 'abca',\n",
       " 'acab',\n",
       " 'acba',\n",
       " 'baac',\n",
       " 'baca',\n",
       " 'bcaa',\n",
       " 'caab',\n",
       " 'caba',\n",
       " 'cbaa']"
      ]
     },
     "execution_count": 3,
     "metadata": {},
     "output_type": "execute_result"
    }
   ],
   "source": [
    "perm(arr)"
   ]
  },
  {
   "cell_type": "code",
   "execution_count": null,
   "metadata": {},
   "outputs": [],
   "source": []
  }
 ],
 "metadata": {
  "kernelspec": {
   "display_name": "Python 3",
   "language": "python",
   "name": "python3"
  },
  "language_info": {
   "codemirror_mode": {
    "name": "ipython",
    "version": 3
   },
   "file_extension": ".py",
   "mimetype": "text/x-python",
   "name": "python",
   "nbconvert_exporter": "python",
   "pygments_lexer": "ipython3",
   "version": "3.8.0"
  }
 },
 "nbformat": 4,
 "nbformat_minor": 4
}
