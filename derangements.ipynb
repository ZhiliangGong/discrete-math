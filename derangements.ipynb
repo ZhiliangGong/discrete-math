{
 "cells": [
  {
   "cell_type": "code",
   "execution_count": 11,
   "metadata": {},
   "outputs": [],
   "source": [
    "def derangements(arr, sliced = arr, pos = 0):\n",
    "    if len(sliced) == 1:\n",
    "        if arr[pos] == sliced[0]:\n",
    "            return []\n",
    "        return sliced\n",
    "    ans = []\n",
    "    for i, e in enumerate(sliced):\n",
    "        if arr[pos] == e:\n",
    "            continue\n",
    "        child = sliced[:i] + sliced[i+1:]\n",
    "        res = derangements(arr, child, pos + 1)\n",
    "        for s in res:\n",
    "            ans.append(e + s)\n",
    "    return ans"
   ]
  },
  {
   "cell_type": "code",
   "execution_count": 12,
   "metadata": {},
   "outputs": [],
   "source": [
    "arr = ['a', 'a', 'b', 'c', 'd']"
   ]
  },
  {
   "cell_type": "code",
   "execution_count": 13,
   "metadata": {},
   "outputs": [
    {
     "data": {
      "text/plain": [
       "['badc', 'bcda', 'bdac', 'cadb', 'cdab', 'cdba', 'dabc', 'dcab', 'dcba']"
      ]
     },
     "execution_count": 13,
     "metadata": {},
     "output_type": "execute_result"
    }
   ],
   "source": [
    "derangements(arr)"
   ]
  }
 ],
 "metadata": {
  "kernelspec": {
   "display_name": "Python 3",
   "language": "python",
   "name": "python3"
  },
  "language_info": {
   "codemirror_mode": {
    "name": "ipython",
    "version": 3
   },
   "file_extension": ".py",
   "mimetype": "text/x-python",
   "name": "python",
   "nbconvert_exporter": "python",
   "pygments_lexer": "ipython3",
   "version": "3.8.0"
  }
 },
 "nbformat": 4,
 "nbformat_minor": 4
}
