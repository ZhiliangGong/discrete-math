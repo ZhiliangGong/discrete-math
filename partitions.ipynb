{
 "cells": [
  {
   "cell_type": "code",
   "execution_count": 1,
   "metadata": {},
   "outputs": [],
   "source": [
    "def conjugate(arr, cut = 0):\n",
    "    ans = []\n",
    "    n = len(arr)\n",
    "    for i in range(0, arr[n-1] - cut):\n",
    "        ans.append(n)\n",
    "    j = 0\n",
    "    for i in range(n):\n",
    "        if arr[i] == arr[n-1]:\n",
    "            j = i\n",
    "            break\n",
    "    if j == 0:\n",
    "        return ans\n",
    "    for x in conjugate(arr[:j], arr[j]):\n",
    "        ans.append(x)\n",
    "    return ans"
   ]
  },
  {
   "cell_type": "code",
   "execution_count": 2,
   "metadata": {},
   "outputs": [],
   "source": [
    "arr = [7, 5, 2, 2]\n",
    "arr.sort(reverse=True)"
   ]
  },
  {
   "cell_type": "code",
   "execution_count": 3,
   "metadata": {},
   "outputs": [
    {
     "data": {
      "text/plain": [
       "[4, 4, 2, 2, 2, 1, 1]"
      ]
     },
     "execution_count": 3,
     "metadata": {},
     "output_type": "execute_result"
    }
   ],
   "source": [
    "ans = conjugate(arr)\n",
    "ans"
   ]
  },
  {
   "cell_type": "code",
   "execution_count": 6,
   "metadata": {},
   "outputs": [],
   "source": [
    "def conjugate2(arr):\n",
    "    arr.sort(reverse = True)\n",
    "    ans = []\n",
    "    n = len(arr)\n",
    "    i = n - 1\n",
    "    while i >= 0:\n",
    "        if arr[i] < len(ans) + 1:\n",
    "            i -= 1\n",
    "        elif i < n - 1 and arr[i] == arr[i+1]:\n",
    "            i -= 1\n",
    "        else:\n",
    "            ans.append(i+1)\n",
    "    return ans"
   ]
  },
  {
   "cell_type": "code",
   "execution_count": 7,
   "metadata": {},
   "outputs": [
    {
     "data": {
      "text/plain": [
       "[4, 4, 2, 2, 2, 1, 1]"
      ]
     },
     "execution_count": 7,
     "metadata": {},
     "output_type": "execute_result"
    }
   ],
   "source": [
    "res = conjugate2(arr)\n",
    "res"
   ]
  },
  {
   "cell_type": "code",
   "execution_count": 8,
   "metadata": {},
   "outputs": [],
   "source": [
    "def conjugate3(l):\n",
    "    l.sort()\n",
    "    res = []\n",
    "    cur = len(l)\n",
    "    past = 0\n",
    "    for i in l:\n",
    "        res.extend([cur] * (i - past))\n",
    "        past = i\n",
    "        cur -= 1\n",
    "    return res"
   ]
  },
  {
   "cell_type": "code",
   "execution_count": 9,
   "metadata": {},
   "outputs": [
    {
     "data": {
      "text/plain": [
       "[4, 4, 2, 2, 2, 1, 1]"
      ]
     },
     "execution_count": 9,
     "metadata": {},
     "output_type": "execute_result"
    }
   ],
   "source": [
    "res = conjugate3(arr)\n",
    "res"
   ]
  },
  {
   "cell_type": "code",
   "execution_count": null,
   "metadata": {},
   "outputs": [],
   "source": []
  }
 ],
 "metadata": {
  "kernelspec": {
   "display_name": "Python 3",
   "language": "python",
   "name": "python3"
  },
  "language_info": {
   "codemirror_mode": {
    "name": "ipython",
    "version": 3
   },
   "file_extension": ".py",
   "mimetype": "text/x-python",
   "name": "python",
   "nbconvert_exporter": "python",
   "pygments_lexer": "ipython3",
   "version": "3.8.0"
  }
 },
 "nbformat": 4,
 "nbformat_minor": 4
}
